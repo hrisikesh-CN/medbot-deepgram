{
 "cells": [
  {
   "cell_type": "code",
   "execution_count": 1,
   "id": "42a14256-91c8-446e-92a7-ab6bf11055d3",
   "metadata": {},
   "outputs": [],
   "source": [
    "\n",
    "import os\n",
    "os.chdir(\"..\")\n",
    "\n",
    "import asyncio\n",
    "from dotenv import load_dotenv\n",
    "import shutil\n",
    "import subprocess\n",
    "import requests\n",
    "import time\n",
    "import os\n",
    "\n",
    "from langchain_core.prompts import ChatPromptTemplate\n",
    "from langchain_groq import ChatGroq\n",
    "from langchain_openai import ChatOpenAI\n",
    "from langchain.memory import ConversationBufferMemory\n",
    "from langchain.prompts import (\n",
    "    ChatPromptTemplate,\n",
    "    MessagesPlaceholder,\n",
    "    SystemMessagePromptTemplate,\n",
    "    HumanMessagePromptTemplate,\n",
    ")\n",
    "from langchain.chains import LLMChain\n",
    " \n",
    "\n",
    "\n",
    "\n",
    "prompt_template = \"\"\"Given the following information:\n",
    "\n",
    "1. User details Json: {user_details_json}\n",
    "\n",
    "\n",
    "Task:\n",
    "* If user_details_json is not empty\n",
    "    * Extract name and relevant past history.\n",
    "    * Craft a personalized response (max 2 lines) based on the current chat and history.\n",
    "    * Prioritize using the name and a warm greeting.\n",
    "* IF JSON DOES NOT EXIST:\n",
    "    * Craft a general, friendly response (max 2 lines) to continue the conversation.\n",
    "\n",
    "Example JSON (if exists):\n",
    "{\n",
    "  \"name\": \"Alice\",\n",
    "  \"past_history\": [\"Asked about product features\", \"Expressed interest in discounts\"]\n",
    "}\"\"\"\n",
    "\n",
    "\n",
    "from langchain.prompts import FewShotPromptTemplate\n",
    "from langchain.prompts import PromptTemplate\n",
    "\n",
    "\n",
    "\n",
    "prompt = PromptTemplate(\n",
    "    template=prompt_template,\n",
    "    input_variables=['user_details_json']\n",
    ")\n",
    "\n",
    "text = \"\"\"{\n",
    "  \"name\": \"Alice\",\n",
    "  \"past_history\": [\"Asked about product features\", \"Expressed interest in discounts\"]\n",
    "}\"\"\"\n",
    "\n",
    "\n",
    "\n",
    "llm = ChatGroq(temperature=0, model_name=\"mixtral-8x7b-32768\", groq_api_key=os.getenv(\"GROQ_API_KEY\"))\n",
    " \n",
    "\n",
    "\n",
    "\n",
    "from langchain_community.chat_message_histories import SQLChatMessageHistory\n",
    "\n",
    "\n",
    "\n"
   ]
  },
  {
   "cell_type": "code",
   "execution_count": 2,
   "id": "58f6f76c",
   "metadata": {},
   "outputs": [],
   "source": [
    "def get_session_history(session_id):\n",
    "    return SQLChatMessageHistory(session_id, \"sqlite:///memory.db\")\n",
    "\n",
    "from langchain_core.prompts import ChatPromptTemplate, MessagesPlaceholder\n",
    "from langchain_core.runnables.history import RunnableWithMessageHistory\n",
    "\n",
    "\n",
    "prompt_template = \"\"\"You are a conversational medical assistant.\n",
    "Use short, conversational responses as if you're having a live conversation. Restrict\n",
    "yourself from using unnecessary responses. Keep the responses short and precise.\n",
    "\n",
    "Given the following information:\n",
    "User details Json: {user_details_json}\n",
    "\n",
    "\n",
    "Task:\n",
    "* Extract name and relevant past history.\n",
    "* Craft a personalized response (max 2 lines) based on the current chat and history.\n",
    "* Prioritize using the name and a warm greeting.\n",
    "\n",
    "\n",
    "If user_details_json is None, then the history will be returned as a JSON string. Otherwise it will be returned as a JSON string with the \n",
    "following fields filled in: name and description of the current chat and history. \n",
    "\"\"\"\n",
    "\n",
    "prompt = ChatPromptTemplate.from_messages(\n",
    "    [\n",
    "        (\n",
    "            \"system\",\n",
    "            prompt_template\n",
    "        ),\n",
    "        \n",
    "        MessagesPlaceholder(variable_name=\"history\"),\n",
    "        (\"human\", \"{input}\"),\n",
    "    ]\n",
    ")\n",
    "\n",
    "runnable = prompt | llm\n",
    "\n"
   ]
  },
  {
   "cell_type": "code",
   "execution_count": 3,
   "id": "4f8ce818",
   "metadata": {},
   "outputs": [],
   "source": [
    "runnable_with_history = RunnableWithMessageHistory(\n",
    "    runnable,\n",
    "    get_session_history,\n",
    "    \n",
    "    input_messages_key=\"input\",\n",
    "    history_messages_key=\"history\",\n",
    ")\n",
    "\n"
   ]
  },
  {
   "cell_type": "code",
   "execution_count": 4,
   "id": "2a451fa0",
   "metadata": {},
   "outputs": [
    {
     "data": {
      "text/plain": [
       "AIMessage(content='Hello there! I\\'m glad you\\'re here, Rishi. I\\'m here to help you with any questions or concerns you might have. Is there anything specific you would like to know about our medical platform or any other topic? 😊 \\n\\n(Note: I assumed you might have meant \"Hi\" as a greeting, so I responded accordingly. If you meant something else, please let me know!)')"
      ]
     },
     "execution_count": 4,
     "metadata": {},
     "output_type": "execute_result"
    }
   ],
   "source": [
    "\n",
    "runnable_with_history.invoke(\n",
    "    {\"user_details_json\":\n",
    "        \"\"\"{\"name\": \"Rishi\",\n",
    "        \"past_history\": [\"Asked about product features\", \"Expressed interest in discounts\"]}\"\"\",\n",
    "        \n",
    "        \n",
    "     \"input\": \"HI!\"},\n",
    "    config={\"configurable\": {\"session_id\": \"2\"}},\n",
    ")\n"
   ]
  },
  {
   "cell_type": "code",
   "execution_count": 5,
   "id": "831b58d9",
   "metadata": {},
   "outputs": [
    {
     "data": {
      "text/plain": [
       "AIMessage(content=\"Hello Rishi, great to e-meet you! I see you're dealing with a fever, I'm here to help. Let's discuss your symptoms and how I can assist you further.\")"
      ]
     },
     "execution_count": 5,
     "metadata": {},
     "output_type": "execute_result"
    }
   ],
   "source": [
    "\n",
    "runnable_with_history.invoke(\n",
    "    {\"user_details_json\":\n",
    "        None,\n",
    "        \n",
    "     \"input\": \"My name is rishi and i am having fever!\"},\n",
    "    config={\"configurable\": {\"session_id\": \"1\"}},\n",
    ")\n",
    "\n"
   ]
  },
  {
   "cell_type": "code",
   "execution_count": 6,
   "id": "472ce353",
   "metadata": {},
   "outputs": [
    {
     "data": {
      "text/plain": [
       "AIMessage(content=\"I apologize for any confusion, Rishi. Since I don't have access to our previous conversations, I can't provide you with the specific questions you asked before. However, I'm here to help you with any questions or concerns you might have now. Is there anything specific you would like to know about our medical platform or any other topic? 😊\")"
      ]
     },
     "execution_count": 6,
     "metadata": {},
     "output_type": "execute_result"
    }
   ],
   "source": [
    "runnable_with_history.invoke(\n",
    "    {\"user_details_json\":\n",
    "        None,\n",
    "        \n",
    "     \"input\": \"Can you tell me what questions did i ask\"},\n",
    "    config={\"configurable\": {\"session_id\": \"2\"}},\n",
    ")\n",
    "\n"
   ]
  },
  {
   "cell_type": "code",
   "execution_count": 7,
   "id": "a6073936",
   "metadata": {},
   "outputs": [
    {
     "data": {
      "text/plain": [
       "AIMessage(content='Hello again! I\\'m glad you\\'re here, Rishi. I\\'m here to help you with any questions or concerns you might have. Is there anything specific you would like to know about our medical platform or any other topic? 😊 \\n\\n(Note: I assumed you might have meant \"Hi\" as a greeting, so I responded accordingly. If you meant something else, please let me know!) ')"
      ]
     },
     "execution_count": 7,
     "metadata": {},
     "output_type": "execute_result"
    }
   ],
   "source": [
    "runnable_with_history.invoke(\n",
    "    {\"user_details_json\":\n",
    "        None,\n",
    "        \n",
    "     \"input\": \"Hi\"},\n",
    "    config={\"configurable\": {\"session_id\": \"2\"}},\n",
    ")"
   ]
  }
 ],
 "metadata": {
  "language_info": {
   "name": "python"
  }
 },
 "nbformat": 4,
 "nbformat_minor": 5
}

{
 "cells": [
  {
   "cell_type": "code",
   "execution_count": 1,
   "id": "986618dc",
   "metadata": {},
   "outputs": [],
   "source": [
    "import os\n",
    "os.chdir(\"..\")"
   ]
  },
  {
   "cell_type": "code",
   "execution_count": 2,
   "id": "5cb1fc37-a620-415b-8bb0-aa530117fe15",
   "metadata": {},
   "outputs": [],
   "source": [
    "import asyncio\n",
    "from dotenv import load_dotenv\n",
    "import shutil\n",
    "import subprocess\n",
    "import requests\n",
    "import time\n",
    "import os\n",
    "\n",
    "from langchain_core.prompts import ChatPromptTemplate\n",
    "from langchain_groq import ChatGroq\n",
    "from langchain_openai import ChatOpenAI\n",
    "from langchain.memory import ConversationBufferMemory\n",
    "from langchain.prompts import (\n",
    "    ChatPromptTemplate,\n",
    "    MessagesPlaceholder,\n",
    "    SystemMessagePromptTemplate,\n",
    "    HumanMessagePromptTemplate,\n",
    ")\n",
    "from langchain.chains import LLMChain\n",
    " \n",
    "\n",
    "class LanguageModelProcessor:\n",
    "    def __init__(self,prompt):\n",
    "        self.llm = ChatGroq(temperature=0, model_name=\"mixtral-8x7b-32768\", groq_api_key=os.getenv(\"GROQ_API_KEY\"))\n",
    " \n",
    "\n",
    "        self.memory = ConversationBufferMemory(memory_key=\"chat_history\", return_messages=True)\n",
    "\n",
    "        \n",
    "\n",
    "        self.prompt = ChatPromptTemplate.from_messages([\n",
    "            SystemMessagePromptTemplate.from_template(prompt),\n",
    "            MessagesPlaceholder(variable_name=\"chat_history\"),\n",
    "            HumanMessagePromptTemplate.from_template(\"{text}\")\n",
    "        ])\n",
    "\n",
    "        self.conversation = LLMChain(\n",
    "            llm=self.llm,\n",
    "            prompt=self.prompt,\n",
    "            memory=self.memory\n",
    "        )\n",
    "\n",
    "    def process(self, text):\n",
    "        self.memory.chat_memory.add_user_message(text)  # Add user message to memory\n",
    "\n",
    "        start_time = time.time()\n",
    "\n",
    "        # Go get the response from the LLM\n",
    "        response = self.conversation.invoke({\"text\": text})\n",
    "        end_time = time.time()\n",
    "\n",
    "        self.memory.chat_memory.add_ai_message(response['text'])  # Add AI response to memory\n",
    "\n",
    "        elapsed_time = int((end_time - start_time) * 1000)\n",
    "        # print(f\"LLM ({elapsed_time}ms): {response['text']}\")\n",
    "        return response['text']  \n"
   ]
  },
  {
   "cell_type": "code",
   "execution_count": 4,
   "id": "ec8dcf51",
   "metadata": {},
   "outputs": [],
   "source": [
    "prompt = \"\"\"Given the following information:\n",
    "\n",
    "1. Folder Name: {folder_name}\n",
    "2. JSON File Name: user_info.json\n",
    "3. Current Chat History: \n",
    "   {chat_history}\n",
    "\n",
    "Task:\n",
    "* Check if user_info.json exists in the specified folder.\n",
    "* IF JSON EXISTS:\n",
    "    * Extract name and relevant past history.\n",
    "    * Craft a personalized response (max 2 lines) based on the current chat and history.\n",
    "    * Prioritize using the name and a warm greeting.\n",
    "* IF JSON DOES NOT EXIST:\n",
    "    * Craft a general, friendly response (max 2 lines) to continue the conversation.\n",
    "\n",
    "Example JSON (if exists):\n",
    "{\n",
    "  \"name\": \"Alice\",\n",
    "  \"past_history\": [\"Asked about product features\", \"Expressed interest in discounts\"]\n",
    "}\"\"\""
   ]
  },
  {
   "cell_type": "code",
   "execution_count": 3,
   "id": "39294b0b",
   "metadata": {},
   "outputs": [
    {
     "data": {
      "text/plain": [
       "\"I'm just a computer program, but I'm here to help you. How can I assist you today?\""
      ]
     },
     "execution_count": 3,
     "metadata": {},
     "output_type": "execute_result"
    }
   ],
   "source": [
    "llm = LanguageModelProcessor(prompt)\n",
    "llm.process(text)"
   ]
  },
  {
   "cell_type": "code",
   "execution_count": null,
   "id": "dff6cb93",
   "metadata": {},
   "outputs": [],
   "source": []
  }
 ],
 "metadata": {
  "kernelspec": {
   "display_name": "Python 3 (ipykernel)",
   "language": "python",
   "name": "python3"
  },
  "language_info": {
   "codemirror_mode": {
    "name": "ipython",
    "version": 3
   },
   "file_extension": ".py",
   "mimetype": "text/x-python",
   "name": "python",
   "nbconvert_exporter": "python",
   "pygments_lexer": "ipython3",
   "version": "3.10.14"
  }
 },
 "nbformat": 4,
 "nbformat_minor": 5
}

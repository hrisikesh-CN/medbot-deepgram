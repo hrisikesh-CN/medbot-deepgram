{
 "cells": [
  {
   "cell_type": "code",
   "execution_count": 40,
   "id": "345f249c-878c-4023-af46-339441ffda56",
   "metadata": {},
   "outputs": [],
   "source": [
    "# Import things that are needed generically\n",
    "from langchain.pydantic_v1 import BaseModel, Field\n",
    "from langchain.tools import BaseTool, StructuredTool, tool\n"
   ]
  },
  {
   "cell_type": "code",
   "execution_count": 20,
   "id": "cde966f7-7076-4e15-b321-928e94adea01",
   "metadata": {},
   "outputs": [],
   "source": [
    "from typing import Optional, Type\n",
    "import sqlite3\n",
    "\n",
    "\n",
    "from langchain.callbacks.manager import (\n",
    "    AsyncCallbackManagerForToolRun,\n",
    "    CallbackManagerForToolRun,\n",
    ")\n",
    "\n",
    "class DoctorNameInput(BaseModel):\n",
    "    doctor_name: str = Field(description=\"doctor name\")\n",
    "\n",
    "class GetDoctorSlots(BaseTool):\n",
    "    name = \"get_doctor_slots\"\n",
    "    description = \"Useful when doctor's availability needs to be checked for booking appointments\"\n",
    "    args_schema: Type[BaseModel] = DoctorNameInput\n",
    "\n",
    "    \n",
    "    def get_doctor_id_by_name(self,doctor_name):\n",
    "        connection = sqlite3.connect('doctor_appointments.db')\n",
    "        cursor = connection.cursor()\n",
    "        query = \"SELECT id FROM doctors WHERE name = ?\"\n",
    "        cursor.execute(query, (doctor_name,))\n",
    "        result = cursor.fetchone()\n",
    "        connection.close()\n",
    "        return result[0] if result else None\n",
    "\n",
    "    def get_available_slots(self,doctor_name):\n",
    "        doctor_id = self.get_doctor_id_by_name(doctor_name)\n",
    "        if doctor_id is None:\n",
    "            return {\"error\": f\"No doctor found with name {doctor_name}\"}\n",
    "    \n",
    "        connection = sqlite3.connect('doctor_appointments.db')\n",
    "        cursor = connection.cursor()\n",
    "        query = \"SELECT slot_time FROM available_slots WHERE doctor_id = ?\"\n",
    "        cursor.execute(query, (doctor_id,))\n",
    "        slots = cursor.fetchall()\n",
    "        connection.close()\n",
    "        return [slot[0] for slot in slots]\n",
    "        \n",
    "    def _run(\n",
    "        self, doctor_name: str, run_manager: Optional[CallbackManagerForToolRun] = None\n",
    "    ) -> str:\n",
    "        \"\"\"Use the tool.\"\"\"\n",
    "        \n",
    "        return self.get_available_slots(doctor_name)\n",
    "\n",
    "    async def _arun(\n",
    "        self, query: str, run_manager: Optional[AsyncCallbackManagerForToolRun] = None\n",
    "    ) -> str:\n",
    "        \"\"\"Use the tool asynchronously.\"\"\"\n",
    "        raise NotImplementedError(\"custom_search does not support async\")"
   ]
  },
  {
   "cell_type": "code",
   "execution_count": 21,
   "id": "066908f3-da73-42c4-8deb-ae61e03ee010",
   "metadata": {},
   "outputs": [
    {
     "data": {
      "text/plain": [
       "['2024-07-15 10:00', '2024-07-15 11:00', '2024-07-15 14:00']"
      ]
     },
     "execution_count": 21,
     "metadata": {},
     "output_type": "execute_result"
    }
   ],
   "source": [
    "get_slots = GetDoctorSlots()\n",
    "get_slots.invoke({\"doctor_name\":\"Dr. NS Dhar\"})"
   ]
  },
  {
   "cell_type": "code",
   "execution_count": 2,
   "id": "39f5ce71-324c-44b1-b42e-a779f756ba78",
   "metadata": {},
   "outputs": [
    {
     "name": "stdout",
     "output_type": "stream",
     "text": [
      "sqlite\n",
      "['appointments', 'available_slots', 'doctors']\n"
     ]
    }
   ],
   "source": [
    "#sql chain\n",
    "\n",
    "from langchain_community.utilities import SQLDatabase\n",
    "\n",
    "db = SQLDatabase.from_uri(\"sqlite:///doctor_appointments.db\")\n",
    "print(db.dialect)\n",
    "print(db.get_usable_table_names())\n"
   ]
  },
  {
   "cell_type": "markdown",
   "id": "8fdae651-1246-4e33-bbdd-adfcf64e670b",
   "metadata": {},
   "source": [
    "#### Note\n",
    "Instead of using the `from_uri` method, we can pass a engine directly through the class initialization. This way we would have access to the engine direcly that we can use for various tasks/methods for future purpose/debugging, which was not being possible with the `from_uri` method. "
   ]
  },
  {
   "cell_type": "code",
   "execution_count": 143,
   "id": "5bb873c5-b61c-46f7-810e-1a6fc78999bf",
   "metadata": {},
   "outputs": [],
   "source": [
    "from sqlalchemy import create_engine\n",
    "\n",
    "engine = create_engine(\"sqlite:///doctor_appointments.db\")"
   ]
  },
  {
   "cell_type": "code",
   "execution_count": 147,
   "id": "95692c53-107d-4dc9-94ba-998ab03ab531",
   "metadata": {},
   "outputs": [
    {
     "name": "stdout",
     "output_type": "stream",
     "text": [
      "username: (1, 'Dr. NS Dhar')\n",
      "username: (2, 'Dr. John Doe')\n",
      "username: (3, 'Dr. Jane Smith')\n"
     ]
    }
   ],
   "source": [
    "from sqlalchemy import text\n",
    "\n",
    "with engine.connect() as connection:\n",
    "    result = connection.execute(text(\"select * from doctors\"))\n",
    "    for row in result:\n",
    "        print(\"username:\", row)"
   ]
  },
  {
   "cell_type": "code",
   "execution_count": 153,
   "id": "3f451497-281d-4ca8-9f81-610f0cb5e950",
   "metadata": {},
   "outputs": [
    {
     "data": {
      "text/plain": [
       "\"[(1, 'Dr. NS Dhar'), (2, 'Dr. John Doe'), (3, 'Dr. Jane Smith')]\""
      ]
     },
     "execution_count": 153,
     "metadata": {},
     "output_type": "execute_result"
    }
   ],
   "source": [
    "sql_db = SQLDatabase(\n",
    "    engine = engine)\n",
    "\n",
    "sql_db.run(\"select * from doctors\")"
   ]
  },
  {
   "cell_type": "code",
   "execution_count": 154,
   "id": "e747095b-c721-4cc3-8081-64747072d536",
   "metadata": {},
   "outputs": [
    {
     "data": {
      "text/plain": [
       "'SELECT COUNT(\"id\") AS \"total_doctors\" FROM doctors;'"
      ]
     },
     "execution_count": 154,
     "metadata": {},
     "output_type": "execute_result"
    }
   ],
   "source": [
    "from langchain.chains import create_sql_query_chain\n",
    "from langchain_openai import ChatOpenAI\n",
    "\n",
    "llm = ChatOpenAI(model=\"gpt-3.5-turbo\", temperature=0)\n",
    "sql_query_formation_chain = create_sql_query_chain(llm, sql_db)\n",
    "response = sql_query_formation_chain.invoke({\"question\": \"How many doctors are there\"})\n",
    "response"
   ]
  },
  {
   "cell_type": "code",
   "execution_count": 155,
   "id": "db393e55-41a4-43e8-bb18-b59dfea38164",
   "metadata": {},
   "outputs": [
    {
     "data": {
      "text/plain": [
       "'[(3,)]'"
      ]
     },
     "execution_count": 155,
     "metadata": {},
     "output_type": "execute_result"
    }
   ],
   "source": [
    "sql_db.run(response)"
   ]
  },
  {
   "cell_type": "code",
   "execution_count": 156,
   "id": "1e56b2ec-ac9f-42be-b377-6a1fd9070545",
   "metadata": {},
   "outputs": [
    {
     "data": {
      "text/plain": [
       "'[(3,)]'"
      ]
     },
     "execution_count": 156,
     "metadata": {},
     "output_type": "execute_result"
    }
   ],
   "source": [
    "from langchain_community.tools.sql_database.tool import QuerySQLDataBaseTool\n",
    "\n",
    "execute_query = QuerySQLDataBaseTool(db=sql_db)\n",
    "write_query = create_sql_query_chain(llm, sql_db)\n",
    "sql_chain = write_query | execute_query\n",
    "sql_chain.invoke({\"question\":  \"How many doctors are there\"})"
   ]
  },
  {
   "cell_type": "code",
   "execution_count": 159,
   "id": "3f7f0fd8-bf70-4b44-80f8-ed8013e38d8c",
   "metadata": {},
   "outputs": [
    {
     "data": {
      "text/plain": [
       "\"[('2024-07-16 16:00',), ('2024-07-16 18:00',)]\""
      ]
     },
     "execution_count": 159,
     "metadata": {},
     "output_type": "execute_result"
    }
   ],
   "source": [
    "sql_chain.invoke({\"question\":  \"What is the slots available for dr ns dhar\"})"
   ]
  },
  {
   "cell_type": "markdown",
   "id": "ce1fd2b6-9d53-4984-957c-9c237c582967",
   "metadata": {},
   "source": [
    "## Build Agents "
   ]
  },
  {
   "cell_type": "code",
   "execution_count": 160,
   "id": "67c3f6b5-b5ff-442e-8b0a-f9efe34053d3",
   "metadata": {},
   "outputs": [],
   "source": [
    "from langchain_core.prompts import ChatPromptTemplate, MessagesPlaceholder\n",
    "\n",
    "prompt = ChatPromptTemplate.from_messages(\n",
    "    [\n",
    "        (\n",
    "            \"system\",\n",
    "            \"You are very powerful assistant, you are helpful when user needs to book appointments\",\n",
    "        ),\n",
    "        (\"user\", \"{input}\"),\n",
    "        MessagesPlaceholder(variable_name=\"agent_scratchpad\"),\n",
    "    ]\n",
    ")\n",
    "\n",
    "@tool\n",
    "def get_doctor_slots(doctor_name):\n",
    "    \"\"\"Useful when you need to get available slots of a doctor\"\"\"\n",
    "    query = f\"What is the slots available for {doctor_name}\"\n",
    "    return sql_chain.invoke({\"question\":query})\n",
    "\n",
    "@tool\n",
    "def create_appointments(doctor_name: str, patient_name: str, appointment_time: str):\n",
    "    \"\"\"Useful when you need to create appointments for a doctor\"\"\"\n",
    "    \n",
    "    patient_add_data_query = f\"\"\"Put appointment records into the table.\n",
    "            Patient Name: {patient_name}\n",
    "            doctor name: {doctor_name}\n",
    "            time: {appointment_time}\n",
    "            \n",
    "            \"\"\"\n",
    "\n",
    "    #del the record in sql database with respect to the doctor name\n",
    "    update_table_query = f\"\"\"An appointment has been booked for {doctor_name}\n",
    "            time slot: {appointment_time}\n",
    "            Please del that slot in available slot table\n",
    "            \n",
    "            \"\"\"\n",
    "    \n",
    "    sql_chain.invoke({\"question\":patient_add_data_query})\n",
    "    sql_chain.invoke({\"question\":update_table_query})\n",
    "\n",
    "\n",
    "\n",
    "\n",
    "tools = [get_doctor_slots, create_appointments]\n"
   ]
  },
  {
   "cell_type": "code",
   "execution_count": 161,
   "id": "9de62798-54b7-480b-9c3f-1fc20ae858a8",
   "metadata": {},
   "outputs": [],
   "source": [
    "llm = ChatOpenAI(model=\"gpt-3.5-turbo\", temperature=0)\n",
    "llm_with_tools = llm.bind_tools(tools)\n"
   ]
  },
  {
   "cell_type": "code",
   "execution_count": 162,
   "id": "4e391d23-2659-4168-9a0f-21af6b8aef6e",
   "metadata": {},
   "outputs": [],
   "source": [
    "from langchain.agents.format_scratchpad.openai_tools import (\n",
    "    format_to_openai_tool_messages,\n",
    ")\n",
    "from langchain.agents.output_parsers.openai_tools import OpenAIToolsAgentOutputParser\n",
    "\n",
    "agent = (\n",
    "    {\n",
    "        \"input\": lambda x: x[\"input\"],\n",
    "        \"agent_scratchpad\": lambda x: format_to_openai_tool_messages(\n",
    "            x[\"intermediate_steps\"]\n",
    "        ),\n",
    "    }\n",
    "    | prompt\n",
    "    | llm_with_tools\n",
    "    | OpenAIToolsAgentOutputParser()\n",
    ")"
   ]
  },
  {
   "cell_type": "code",
   "execution_count": 163,
   "id": "1263e68e-18d0-4f9e-a9c3-81301499f6a6",
   "metadata": {},
   "outputs": [],
   "source": [
    "from langchain.agents import AgentExecutor\n",
    "\n",
    "agent_executor = AgentExecutor(agent=agent, tools=tools, verbose=True)"
   ]
  },
  {
   "cell_type": "code",
   "execution_count": 164,
   "id": "21ce0e7f-a6ed-41c6-9cf5-19ad07bbd76f",
   "metadata": {},
   "outputs": [
    {
     "name": "stdout",
     "output_type": "stream",
     "text": [
      "\n",
      "\n",
      "\u001b[1m> Entering new AgentExecutor chain...\u001b[0m\n",
      "\u001b[32;1m\u001b[1;3m\n",
      "Invoking: `get_doctor_slots` with `{'doctor_name': 'dr ns dhar'}`\n",
      "\n",
      "\n",
      "\u001b[0m\u001b[36;1m\u001b[1;3m[('2024-07-16 16:00',), ('2024-07-16 18:00',)]\u001b[0m\u001b[32;1m\u001b[1;3mDr. NS Dhar has the following available slots for booking:\n",
      "1. 16:00 on July 16, 2024\n",
      "2. 18:00 on July 16, 2024\n",
      "\n",
      "Please let me know which slot you would like to book.\u001b[0m\n",
      "\n",
      "\u001b[1m> Finished chain.\u001b[0m\n"
     ]
    },
    {
     "data": {
      "text/plain": [
       "{'input': 'Please book a slot of dr ns dhar',\n",
       " 'output': 'Dr. NS Dhar has the following available slots for booking:\\n1. 16:00 on July 16, 2024\\n2. 18:00 on July 16, 2024\\n\\nPlease let me know which slot you would like to book.'}"
      ]
     },
     "execution_count": 164,
     "metadata": {},
     "output_type": "execute_result"
    }
   ],
   "source": [
    "agent_executor.invoke({\"input\":\"Please book a slot of dr ns dhar\"})"
   ]
  },
  {
   "cell_type": "markdown",
   "id": "2ee339d3-f89e-4bb2-ab34-3bc7163fb49f",
   "metadata": {},
   "source": [
    "## Appointment booking"
   ]
  },
  {
   "cell_type": "code",
   "execution_count": 165,
   "id": "74b008c3-ad91-4d2f-a352-18783b5412b4",
   "metadata": {},
   "outputs": [
    {
     "name": "stdout",
     "output_type": "stream",
     "text": [
      "\n",
      "\n",
      "\u001b[1m> Entering new AgentExecutor chain...\u001b[0m\n",
      "\u001b[32;1m\u001b[1;3m\n",
      "Invoking: `get_doctor_slots` with `{'doctor_name': 'dr ns dhar'}`\n",
      "\n",
      "\n",
      "\u001b[0m\u001b[36;1m\u001b[1;3m[('2024-07-16 16:00',), ('2024-07-16 18:00',)]\u001b[0m\u001b[32;1m\u001b[1;3m\n",
      "Invoking: `create_appointments` with `{'doctor_name': 'dr ns dhar', 'patient_name': 'Hrisikesh Neogi', 'appointment_time': '2024-07-16 16:00'}`\n",
      "\n",
      "\n",
      "\u001b[0m\u001b[33;1m\u001b[1;3mNone\u001b[0m\u001b[32;1m\u001b[1;3mYour appointment with Dr. NS Dhar on 16th July 2024 at 4 PM has been successfully booked.\u001b[0m\n",
      "\n",
      "\u001b[1m> Finished chain.\u001b[0m\n"
     ]
    },
    {
     "data": {
      "text/plain": [
       "{'input': 'Book appointment of dr ns dhar on 16th July 2024 at 4 PM.  My name is Hrisikesh Neogi',\n",
       " 'output': 'Your appointment with Dr. NS Dhar on 16th July 2024 at 4 PM has been successfully booked.'}"
      ]
     },
     "execution_count": 165,
     "metadata": {},
     "output_type": "execute_result"
    }
   ],
   "source": [
    "agent_executor.invoke({\"input\":\"Book appointment of dr ns dhar on 16th July 2024 at 4 PM.  My name is Hrisikesh Neogi\"})"
   ]
  },
  {
   "cell_type": "code",
   "execution_count": 167,
   "id": "d1609aaf-3019-460d-ae5a-76f804a0b85b",
   "metadata": {},
   "outputs": [
    {
     "data": {
      "text/plain": [
       "\"[(1, 1, 'Hrisikesh Neogi', '2024-07-15 11:00'), (2, 1, 'Hrisikesh Neogi', '2024-07-15 11:00'), (3, 1, 'Hrisikesh Neogi', '2024-07-15 14:00'), (4, 1, 'Hrisikesh Neogi', '2024-07-16 14:00'), (5, 1, 'Hrisikesh Neogi', '2024-07-16 16:00')]\""
      ]
     },
     "execution_count": 167,
     "metadata": {},
     "output_type": "execute_result"
    }
   ],
   "source": [
    "sql_db.run(\"select * from appointments\")"
   ]
  },
  {
   "cell_type": "code",
   "execution_count": null,
   "id": "7453ca8d-5ebd-40de-b679-b443d5491fac",
   "metadata": {},
   "outputs": [],
   "source": []
  },
  {
   "cell_type": "code",
   "execution_count": 94,
   "id": "3c3cd510-2766-4dd5-ae40-15e90a2375b7",
   "metadata": {},
   "outputs": [],
   "source": [
    "#check dr ns dhar availability now\n",
    "query = \"\"\"What is the available slots for dr ns dhar\n",
    "\n",
    "\"\"\"\n",
    "\n",
    "availability_query = sql_query_formation_chain.invoke({\"question\":query})"
   ]
  },
  {
   "cell_type": "code",
   "execution_count": 108,
   "id": "49cb7fea-2236-4f87-a282-1186cdf5899a",
   "metadata": {},
   "outputs": [
    {
     "data": {
      "text/plain": [
       "\"[('2024-07-16 14:00',), ('2024-07-16 16:00',), ('2024-07-16 18:00',)]\""
      ]
     },
     "execution_count": 108,
     "metadata": {},
     "output_type": "execute_result"
    }
   ],
   "source": [
    "db.run(availability_query)"
   ]
  },
  {
   "cell_type": "code",
   "execution_count": 43,
   "id": "db5456eb-8167-4b4c-8dfd-e66bb27fa28d",
   "metadata": {},
   "outputs": [],
   "source": [
    "\n",
    "\n",
    "response = sql_query_formation_chain.invoke({\"question\": \"Book appointment of dr ns dhar on 2024-07-15 at 10 am \"})\n"
   ]
  },
  {
   "cell_type": "code",
   "execution_count": 45,
   "id": "6dd4e85f-d3ca-45a2-aca0-8067f10e2828",
   "metadata": {},
   "outputs": [
    {
     "data": {
      "text/plain": [
       "\"[(1, 'Dr. NS Dhar', '2024-07-15 10:00')]\""
      ]
     },
     "execution_count": 45,
     "metadata": {},
     "output_type": "execute_result"
    }
   ],
   "source": [
    "db.run(response)"
   ]
  },
  {
   "cell_type": "code",
   "execution_count": 168,
   "id": "754e4006-be2c-48cb-a9a7-a5ba991b34c6",
   "metadata": {},
   "outputs": [],
   "source": [
    "query = \"\"\"Put appointment records to table.\n",
    "Patient Name: Hrisikesh Neogi\n",
    "doctor name: dr ns dhar\n",
    "time: 2024-07-15 11:00\n",
    "\n",
    "\"\"\"\n",
    "\n",
    "# response = sql_query_formation_chain.invoke({\"question\":query})\n",
    "# response"
   ]
  },
  {
   "cell_type": "code",
   "execution_count": 169,
   "id": "96a1b5bd-1b09-4dbf-9329-6b8fd010184a",
   "metadata": {},
   "outputs": [
    {
     "data": {
      "text/plain": [
       "''"
      ]
     },
     "execution_count": 169,
     "metadata": {},
     "output_type": "execute_result"
    }
   ],
   "source": [
    "sql_chain.invoke({\"question\":query})"
   ]
  },
  {
   "cell_type": "code",
   "execution_count": 170,
   "id": "cd92a407-87ab-4e80-885f-05cb04cf85c3",
   "metadata": {},
   "outputs": [
    {
     "data": {
      "text/plain": [
       "\"[(1, 1, 'Hrisikesh Neogi', '2024-07-15 11:00'), (2, 1, 'Hrisikesh Neogi', '2024-07-15 11:00'), (3, 1, 'Hrisikesh Neogi', '2024-07-15 14:00'), (4, 1, 'Hrisikesh Neogi', '2024-07-16 14:00'), (5, 1, 'Hrisikesh Neogi', '2024-07-16 16:00'), (6, 1, 'Hrisikesh Neogi', '2024-07-15 11:00')]\""
      ]
     },
     "execution_count": 170,
     "metadata": {},
     "output_type": "execute_result"
    }
   ],
   "source": [
    "db.run(\"select * from appointments\")"
   ]
  },
  {
   "cell_type": "code",
   "execution_count": 26,
   "id": "3547bce0-0354-4374-90b9-8e2ddfa6a025",
   "metadata": {},
   "outputs": [
    {
     "data": {
      "text/plain": [
       "''"
      ]
     },
     "execution_count": 26,
     "metadata": {},
     "output_type": "execute_result"
    }
   ],
   "source": [
    "db.run(response)"
   ]
  },
  {
   "cell_type": "code",
   "execution_count": 30,
   "id": "4e572e1c-a905-4620-af93-f940f71d4627",
   "metadata": {},
   "outputs": [
    {
     "data": {
      "text/plain": [
       "\"DELETE FROM available_slots\\nWHERE doctor_id = 1 AND slot_time = '2024-07-15 10:00';\""
      ]
     },
     "execution_count": 30,
     "metadata": {},
     "output_type": "execute_result"
    }
   ],
   "source": [
    "# update available times in doctor database\n",
    "query = \"\"\"An appointment has been booked for dr ns dhar\n",
    "time: 2024-07-15 10:00\n",
    "Please del the available time in table\n",
    "\n",
    "\"\"\"\n",
    "\n",
    "update_query = sql_query_formation_chain.invoke({\"question\":query})\n",
    "update_query"
   ]
  },
  {
   "cell_type": "code",
   "execution_count": 31,
   "id": "75f77774-4280-4e16-bb40-a71151e3bf63",
   "metadata": {},
   "outputs": [
    {
     "data": {
      "text/plain": [
       "\"[(1, 1, '2024-07-15 10:00'), (2, 1, '2024-07-15 11:00'), (3, 1, '2024-07-15 14:00'), (4, 2, '2024-07-15 09:00'), (5, 2, '2024-07-15 13:00'), (6, 3, '2024-07-15 15:00')]\""
      ]
     },
     "execution_count": 31,
     "metadata": {},
     "output_type": "execute_result"
    }
   ],
   "source": [
    "#before update\n",
    "db.run(\"select * from available_slots\")"
   ]
  },
  {
   "cell_type": "code",
   "execution_count": 32,
   "id": "2ff55b66-d673-417b-8718-f22a38b58e1a",
   "metadata": {},
   "outputs": [
    {
     "data": {
      "text/plain": [
       "\"[(2, 1, '2024-07-15 11:00'), (3, 1, '2024-07-15 14:00'), (4, 2, '2024-07-15 09:00'), (5, 2, '2024-07-15 13:00'), (6, 3, '2024-07-15 15:00')]\""
      ]
     },
     "execution_count": 32,
     "metadata": {},
     "output_type": "execute_result"
    }
   ],
   "source": [
    "#after update\n",
    "db.run(update_query)\n",
    "\n",
    "db.run(\"select * from available_slots\")"
   ]
  },
  {
   "cell_type": "code",
   "execution_count": 83,
   "id": "44efd229-166c-4199-862f-c9188d0b9c3e",
   "metadata": {},
   "outputs": [],
   "source": [
    "db._engine"
   ]
  },
  {
   "cell_type": "code",
   "execution_count": 127,
   "id": "aa18e4fb-8b67-4096-b03a-116d034c197c",
   "metadata": {},
   "outputs": [
    {
     "name": "stderr",
     "output_type": "stream",
     "text": [
      "/tmp/ipykernel_15037/1494114923.py:3: SADeprecationWarning: The Session.close_all() method is deprecated and will be removed in a future release.  Please refer to session.close_all_sessions(). (deprecated since: 1.3)\n",
      "  session.close_all()\n"
     ]
    },
    {
     "data": {
      "text/plain": [
       "<contextlib._GeneratorContextManager at 0x7e5828c18490>"
      ]
     },
     "execution_count": 127,
     "metadata": {},
     "output_type": "execute_result"
    }
   ],
   "source": [
    "from sqlalchemy.orm import sessionmaker\n",
    "session = sessionmaker(bind=db._engine)\n",
    "session.close_all()\n",
    "\n",
    "session.begin()"
   ]
  },
  {
   "cell_type": "code",
   "execution_count": 181,
   "id": "0f1235c9-e17f-40d9-806a-d448471cc4e8",
   "metadata": {
    "scrolled": true
   },
   "outputs": [
    {
     "data": {
      "text/plain": [
       "\"[('2024-07-16 18:00',)]\""
      ]
     },
     "execution_count": 181,
     "metadata": {},
     "output_type": "execute_result"
    }
   ],
   "source": [
    "#check dr ns dhar availability now\n",
    "query = \"\"\"What is the available slots for dr ns dhar\"\"\"\n",
    "\n",
    "\n",
    "sql_chain.invoke({\"question\":query})\n",
    "\n",
    "\n",
    "    \n",
    "\n",
    "    "
   ]
  },
  {
   "cell_type": "code",
   "execution_count": null,
   "id": "80dccc8d-a983-4a63-8c0e-cc80f12fe699",
   "metadata": {},
   "outputs": [],
   "source": []
  },
  {
   "cell_type": "code",
   "execution_count": 106,
   "id": "8bf0b887-a8df-4d47-b1a7-8cd3750492b3",
   "metadata": {},
   "outputs": [
    {
     "data": {
      "text/plain": [
       "''"
      ]
     },
     "execution_count": 106,
     "metadata": {},
     "output_type": "execute_result"
    }
   ],
   "source": [
    "sql_chain.invoke({\"question\":\n",
    "                  \"Dr ns dhar is available on 16th july, times are 2 pm, 4 pm and 6 pm. please add the records in table\"})"
   ]
  },
  {
   "cell_type": "code",
   "execution_count": null,
   "id": "c561a5c6-e319-4d44-bee2-69efb4ee4f1b",
   "metadata": {},
   "outputs": [],
   "source": []
  }
 ],
 "metadata": {
  "kernelspec": {
   "display_name": "Python 3 (ipykernel)",
   "language": "python",
   "name": "python3"
  },
  "language_info": {
   "codemirror_mode": {
    "name": "ipython",
    "version": 3
   },
   "file_extension": ".py",
   "mimetype": "text/x-python",
   "name": "python",
   "nbconvert_exporter": "python",
   "pygments_lexer": "ipython3",
   "version": "3.10.14"
  }
 },
 "nbformat": 4,
 "nbformat_minor": 5
}

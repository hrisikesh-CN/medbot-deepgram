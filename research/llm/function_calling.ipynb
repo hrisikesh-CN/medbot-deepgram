{
 "cells": [
  {
   "cell_type": "code",
   "execution_count": 1,
   "id": "345f249c-878c-4023-af46-339441ffda56",
   "metadata": {},
   "outputs": [],
   "source": [
    "# Import things that are needed generically\n",
    "from langchain.pydantic_v1 import BaseModel, Field\n",
    "from langchain.tools import BaseTool, StructuredTool, tool\n"
   ]
  },
  {
   "cell_type": "code",
   "execution_count": 20,
   "id": "cde966f7-7076-4e15-b321-928e94adea01",
   "metadata": {},
   "outputs": [],
   "source": [
    "from typing import Optional, Type\n",
    "import sqlite3\n",
    "\n",
    "\n",
    "from langchain.callbacks.manager import (\n",
    "    AsyncCallbackManagerForToolRun,\n",
    "    CallbackManagerForToolRun,\n",
    ")\n",
    "\n",
    "class DoctorNameInput(BaseModel):\n",
    "    doctor_name: str = Field(description=\"doctor name\")\n",
    "\n",
    "class GetDoctorSlots(BaseTool):\n",
    "    name = \"get_doctor_slots\"\n",
    "    description = \"Useful when doctor's availability needs to be checked for booking appointments\"\n",
    "    args_schema: Type[BaseModel] = DoctorNameInput\n",
    "\n",
    "    \n",
    "    def get_doctor_id_by_name(self,doctor_name):\n",
    "        connection = sqlite3.connect('doctor_appointments.db')\n",
    "        cursor = connection.cursor()\n",
    "        query = \"SELECT id FROM doctors WHERE name = ?\"\n",
    "        cursor.execute(query, (doctor_name,))\n",
    "        result = cursor.fetchone()\n",
    "        connection.close()\n",
    "        return result[0] if result else None\n",
    "\n",
    "    def get_available_slots(self,doctor_name):\n",
    "        doctor_id = self.get_doctor_id_by_name(doctor_name)\n",
    "        if doctor_id is None:\n",
    "            return {\"error\": f\"No doctor found with name {doctor_name}\"}\n",
    "    \n",
    "        connection = sqlite3.connect('doctor_appointments.db')\n",
    "        cursor = connection.cursor()\n",
    "        query = \"SELECT slot_time FROM available_slots WHERE doctor_id = ?\"\n",
    "        cursor.execute(query, (doctor_id,))\n",
    "        slots = cursor.fetchall()\n",
    "        connection.close()\n",
    "        return [slot[0] for slot in slots]\n",
    "        \n",
    "    def _run(\n",
    "        self, doctor_name: str, run_manager: Optional[CallbackManagerForToolRun] = None\n",
    "    ) -> str:\n",
    "        \"\"\"Use the tool.\"\"\"\n",
    "        \n",
    "        return self.get_available_slots(doctor_name)\n",
    "\n",
    "    async def _arun(\n",
    "        self, query: str, run_manager: Optional[AsyncCallbackManagerForToolRun] = None\n",
    "    ) -> str:\n",
    "        \"\"\"Use the tool asynchronously.\"\"\"\n",
    "        raise NotImplementedError(\"custom_search does not support async\")"
   ]
  },
  {
   "cell_type": "code",
   "execution_count": 21,
   "id": "066908f3-da73-42c4-8deb-ae61e03ee010",
   "metadata": {},
   "outputs": [
    {
     "data": {
      "text/plain": [
       "['2024-07-15 10:00', '2024-07-15 11:00', '2024-07-15 14:00']"
      ]
     },
     "execution_count": 21,
     "metadata": {},
     "output_type": "execute_result"
    }
   ],
   "source": [
    "get_slots = GetDoctorSlots()\n",
    "get_slots.invoke({\"doctor_name\":\"Dr. NS Dhar\"})"
   ]
  },
  {
   "cell_type": "code",
   "execution_count": 2,
   "id": "39f5ce71-324c-44b1-b42e-a779f756ba78",
   "metadata": {},
   "outputs": [
    {
     "name": "stdout",
     "output_type": "stream",
     "text": [
      "sqlite\n",
      "['appointments', 'available_slots', 'doctors']\n"
     ]
    }
   ],
   "source": [
    "#sql chain\n",
    "\n",
    "from langchain_community.utilities import SQLDatabase\n",
    "\n",
    "db = SQLDatabase.from_uri(\"sqlite:///doctor_appointments.db\")\n",
    "print(db.dialect)\n",
    "print(db.get_usable_table_names())\n"
   ]
  },
  {
   "cell_type": "code",
   "execution_count": 4,
   "id": "e747095b-c721-4cc3-8081-64747072d536",
   "metadata": {},
   "outputs": [
    {
     "data": {
      "text/plain": [
       "'SELECT COUNT(\"id\") AS \"Number of Doctors\" FROM doctors'"
      ]
     },
     "execution_count": 4,
     "metadata": {},
     "output_type": "execute_result"
    }
   ],
   "source": [
    "from langchain.chains import create_sql_query_chain\n",
    "from langchain_openai import ChatOpenAI\n",
    "\n",
    "llm = ChatOpenAI(model=\"gpt-3.5-turbo\", temperature=0)\n",
    "sql_query_formation_chain = create_sql_query_chain(llm, db)\n",
    "response = sql_query_formation_chain.invoke({\"question\": \"How many doctors are there\"})\n",
    "response"
   ]
  },
  {
   "cell_type": "code",
   "execution_count": 5,
   "id": "db393e55-41a4-43e8-bb18-b59dfea38164",
   "metadata": {},
   "outputs": [
    {
     "data": {
      "text/plain": [
       "'[(3,)]'"
      ]
     },
     "execution_count": 5,
     "metadata": {},
     "output_type": "execute_result"
    }
   ],
   "source": [
    "db.run(response)"
   ]
  },
  {
   "cell_type": "code",
   "execution_count": 33,
   "id": "1e56b2ec-ac9f-42be-b377-6a1fd9070545",
   "metadata": {},
   "outputs": [
    {
     "data": {
      "text/plain": [
       "'[(3,)]'"
      ]
     },
     "execution_count": 33,
     "metadata": {},
     "output_type": "execute_result"
    }
   ],
   "source": [
    "from langchain_community.tools.sql_database.tool import QuerySQLDataBaseTool\n",
    "\n",
    "execute_query = QuerySQLDataBaseTool(db=db)\n",
    "write_query = create_sql_query_chain(llm, db)\n",
    "sql_chain = write_query | execute_query\n",
    "sql_chain.invoke({\"question\":  \"How many doctors are there\"})"
   ]
  },
  {
   "cell_type": "code",
   "execution_count": 34,
   "id": "3f7f0fd8-bf70-4b44-80f8-ed8013e38d8c",
   "metadata": {},
   "outputs": [
    {
     "data": {
      "text/plain": [
       "\"[(1, '2024-07-15 10:00'), (2, '2024-07-15 11:00'), (3, '2024-07-15 14:00')]\""
      ]
     },
     "execution_count": 34,
     "metadata": {},
     "output_type": "execute_result"
    }
   ],
   "source": [
    "sql_chain.invoke({\"question\":  \"What is the slots available for dr ns dhar\"})"
   ]
  },
  {
   "cell_type": "markdown",
   "id": "ce1fd2b6-9d53-4984-957c-9c237c582967",
   "metadata": {},
   "source": [
    "## Build Agents "
   ]
  },
  {
   "cell_type": "code",
   "execution_count": 36,
   "id": "67c3f6b5-b5ff-442e-8b0a-f9efe34053d3",
   "metadata": {},
   "outputs": [],
   "source": [
    "from langchain_core.prompts import ChatPromptTemplate, MessagesPlaceholder\n",
    "\n",
    "prompt = ChatPromptTemplate.from_messages(\n",
    "    [\n",
    "        (\n",
    "            \"system\",\n",
    "            \"You are very powerful assistant, you are helpful when user needs to book appointments\",\n",
    "        ),\n",
    "        (\"user\", \"{input}\"),\n",
    "        MessagesPlaceholder(variable_name=\"agent_scratchpad\"),\n",
    "    ]\n",
    ")\n",
    "\n",
    "@tool\n",
    "def get_doctor_slots(doctor_name):\n",
    "    \"\"\"Useful when you need to get available slots of a doctor\"\"\"\n",
    "    query = f\"What is the slots available for {doctor_name}\"\n",
    "    return sql_chain.invoke({\"question\":query})\n",
    "\n",
    "@tool\n",
    "def create_appointments(doctor_name: str, patient_name: str, appointment_time: str):\n",
    "    \"\"\"Useful when you need to create appointments for a doctor\"\"\"\n",
    "    # Get doctor ID\n",
    "    connection = sqlite3.connect('doctor_appointments.db')\n",
    "    cursor = connection.cursor()\n",
    "    cursor.execute(\"SELECT id FROM doctors WHERE name = ?\", (doctor_name,))\n",
    "    result = cursor.fetchone()\n",
    "    doctor_id = result[0] if result else None\n",
    "\n",
    "    if not doctor_id:\n",
    "        return f\"Doctor named {doctor_name} not found.\"\n",
    "\n",
    "    # Insert appointment\n",
    "    cursor.execute('''\n",
    "    INSERT INTO appointments (doctor_id, patient_name, appointment_time)\n",
    "    VALUES (?, ?, ?)\n",
    "    ''', (doctor_id, patient_name, appointment_time))\n",
    "\n",
    "    connection.commit()\n",
    "    connection.close()\n",
    "    \n",
    "\n",
    "\n",
    "tools = [get_doctor_slots]\n"
   ]
  },
  {
   "cell_type": "code",
   "execution_count": 37,
   "id": "9de62798-54b7-480b-9c3f-1fc20ae858a8",
   "metadata": {},
   "outputs": [],
   "source": [
    "llm = ChatOpenAI(model=\"gpt-3.5-turbo\", temperature=0)\n",
    "llm_with_tools = llm.bind_tools(tools)\n"
   ]
  },
  {
   "cell_type": "code",
   "execution_count": 39,
   "id": "4e391d23-2659-4168-9a0f-21af6b8aef6e",
   "metadata": {},
   "outputs": [],
   "source": [
    "from langchain.agents.format_scratchpad.openai_tools import (\n",
    "    format_to_openai_tool_messages,\n",
    ")\n",
    "from langchain.agents.output_parsers.openai_tools import OpenAIToolsAgentOutputParser\n",
    "\n",
    "agent = (\n",
    "    {\n",
    "        \"input\": lambda x: x[\"input\"],\n",
    "        \"agent_scratchpad\": lambda x: format_to_openai_tool_messages(\n",
    "            x[\"intermediate_steps\"]\n",
    "        ),\n",
    "    }\n",
    "    | prompt\n",
    "    | llm_with_tools\n",
    "    | OpenAIToolsAgentOutputParser()\n",
    ")"
   ]
  },
  {
   "cell_type": "code",
   "execution_count": 40,
   "id": "1263e68e-18d0-4f9e-a9c3-81301499f6a6",
   "metadata": {},
   "outputs": [],
   "source": [
    "from langchain.agents import AgentExecutor\n",
    "\n",
    "agent_executor = AgentExecutor(agent=agent, tools=tools, verbose=True)"
   ]
  },
  {
   "cell_type": "code",
   "execution_count": 41,
   "id": "21ce0e7f-a6ed-41c6-9cf5-19ad07bbd76f",
   "metadata": {},
   "outputs": [
    {
     "name": "stdout",
     "output_type": "stream",
     "text": [
      "\n",
      "\n",
      "\u001b[1m> Entering new AgentExecutor chain...\u001b[0m\n",
      "\u001b[32;1m\u001b[1;3m\n",
      "Invoking: `get_doctor_slots` with `{'doctor_name': 'dr ns dhar'}`\n",
      "\n",
      "\n",
      "\u001b[0m\u001b[36;1m\u001b[1;3m[(1, '2024-07-15 10:00'), (2, '2024-07-15 11:00'), (3, '2024-07-15 14:00')]\u001b[0m\u001b[32;1m\u001b[1;3mDr. NS Dhar has the following available slots for booking:\n",
      "1. 2024-07-15 10:00\n",
      "2. 2024-07-15 11:00\n",
      "3. 2024-07-15 14:00\n",
      "\n",
      "Please let me know which slot you would like to book.\u001b[0m\n",
      "\n",
      "\u001b[1m> Finished chain.\u001b[0m\n"
     ]
    },
    {
     "data": {
      "text/plain": [
       "{'input': 'Please book a slot of dr ns dhar',\n",
       " 'output': 'Dr. NS Dhar has the following available slots for booking:\\n1. 2024-07-15 10:00\\n2. 2024-07-15 11:00\\n3. 2024-07-15 14:00\\n\\nPlease let me know which slot you would like to book.'}"
      ]
     },
     "execution_count": 41,
     "metadata": {},
     "output_type": "execute_result"
    }
   ],
   "source": [
    "agent_executor.invoke({\"input\":\"Please book a slot of dr ns dhar\"})"
   ]
  },
  {
   "cell_type": "markdown",
   "id": "2ee339d3-f89e-4bb2-ab34-3bc7163fb49f",
   "metadata": {},
   "source": [
    "## Appointment booking"
   ]
  },
  {
   "cell_type": "code",
   "execution_count": 43,
   "id": "db5456eb-8167-4b4c-8dfd-e66bb27fa28d",
   "metadata": {},
   "outputs": [],
   "source": [
    "\n",
    "\n",
    "response = sql_query_formation_chain.invoke({\"question\": \"Book appointment of dr ns dhar on 2024-07-15 at 10 am \"})\n"
   ]
  },
  {
   "cell_type": "code",
   "execution_count": 45,
   "id": "6dd4e85f-d3ca-45a2-aca0-8067f10e2828",
   "metadata": {},
   "outputs": [
    {
     "data": {
      "text/plain": [
       "\"[(1, 'Dr. NS Dhar', '2024-07-15 10:00')]\""
      ]
     },
     "execution_count": 45,
     "metadata": {},
     "output_type": "execute_result"
    }
   ],
   "source": [
    "db.run(response)"
   ]
  },
  {
   "cell_type": "code",
   "execution_count": 25,
   "id": "754e4006-be2c-48cb-a9a7-a5ba991b34c6",
   "metadata": {},
   "outputs": [
    {
     "data": {
      "text/plain": [
       "'INSERT INTO appointments (doctor_id, patient_name, appointment_time)\\nSELECT doctors.id, \"Hrisikesh Neogi\", \"2024-07-15 10:00\"\\nFROM doctors\\nWHERE doctors.name = \"Dr. NS Dhar\";'"
      ]
     },
     "execution_count": 25,
     "metadata": {},
     "output_type": "execute_result"
    }
   ],
   "source": [
    "query = \"\"\"Put appointment records to table.\n",
    "Patient Name: Hrisikesh Neogi\n",
    "doctor name: dr ns dhar\n",
    "time: 2024-07-15 10:00\n",
    "\n",
    "\"\"\"\n",
    "\n",
    "response = sql_query_formation_chain.invoke({\"question\":query})\n",
    "response"
   ]
  },
  {
   "cell_type": "code",
   "execution_count": 26,
   "id": "3547bce0-0354-4374-90b9-8e2ddfa6a025",
   "metadata": {},
   "outputs": [
    {
     "data": {
      "text/plain": [
       "''"
      ]
     },
     "execution_count": 26,
     "metadata": {},
     "output_type": "execute_result"
    }
   ],
   "source": [
    "db.run(response)"
   ]
  },
  {
   "cell_type": "code",
   "execution_count": 28,
   "id": "d1609aaf-3019-460d-ae5a-76f804a0b85b",
   "metadata": {},
   "outputs": [
    {
     "data": {
      "text/plain": [
       "\"[(1, 1, 'Hrisikesh Neogi', '2024-07-15 10:00')]\""
      ]
     },
     "execution_count": 28,
     "metadata": {},
     "output_type": "execute_result"
    }
   ],
   "source": [
    "db.run(\"select * from appointments\")"
   ]
  },
  {
   "cell_type": "code",
   "execution_count": 30,
   "id": "4e572e1c-a905-4620-af93-f940f71d4627",
   "metadata": {},
   "outputs": [
    {
     "data": {
      "text/plain": [
       "\"DELETE FROM available_slots\\nWHERE doctor_id = 1 AND slot_time = '2024-07-15 10:00';\""
      ]
     },
     "execution_count": 30,
     "metadata": {},
     "output_type": "execute_result"
    }
   ],
   "source": [
    "# update available times in doctor database\n",
    "query = \"\"\"An appointment has been booked for dr ns dhar\n",
    "time: 2024-07-15 10:00\n",
    "Please del the available time in table\n",
    "\n",
    "\"\"\"\n",
    "\n",
    "update_query = sql_query_formation_chain.invoke({\"question\":query})\n",
    "update_query"
   ]
  },
  {
   "cell_type": "code",
   "execution_count": 31,
   "id": "75f77774-4280-4e16-bb40-a71151e3bf63",
   "metadata": {},
   "outputs": [
    {
     "data": {
      "text/plain": [
       "\"[(1, 1, '2024-07-15 10:00'), (2, 1, '2024-07-15 11:00'), (3, 1, '2024-07-15 14:00'), (4, 2, '2024-07-15 09:00'), (5, 2, '2024-07-15 13:00'), (6, 3, '2024-07-15 15:00')]\""
      ]
     },
     "execution_count": 31,
     "metadata": {},
     "output_type": "execute_result"
    }
   ],
   "source": [
    "#before update\n",
    "db.run(\"select * from available_slots\")"
   ]
  },
  {
   "cell_type": "code",
   "execution_count": 32,
   "id": "2ff55b66-d673-417b-8718-f22a38b58e1a",
   "metadata": {},
   "outputs": [
    {
     "data": {
      "text/plain": [
       "\"[(2, 1, '2024-07-15 11:00'), (3, 1, '2024-07-15 14:00'), (4, 2, '2024-07-15 09:00'), (5, 2, '2024-07-15 13:00'), (6, 3, '2024-07-15 15:00')]\""
      ]
     },
     "execution_count": 32,
     "metadata": {},
     "output_type": "execute_result"
    }
   ],
   "source": [
    "#after update\n",
    "db.run(update_query)\n",
    "\n",
    "db.run(\"select * from available_slots\")"
   ]
  },
  {
   "cell_type": "code",
   "execution_count": 33,
   "id": "3c3cd510-2766-4dd5-ae40-15e90a2375b7",
   "metadata": {},
   "outputs": [
    {
     "data": {
      "text/plain": [
       "\"[('2024-07-15 11:00',), ('2024-07-15 14:00',)]\""
      ]
     },
     "execution_count": 33,
     "metadata": {},
     "output_type": "execute_result"
    }
   ],
   "source": [
    "#check dr ns dhar availability now\n",
    "query = \"\"\"What is the available slots for dr ns dhar\n",
    "\n",
    "\"\"\"\n",
    "\n",
    "availability_query = sql_query_formation_chain.invoke({\"question\":query})\n",
    "db.run(availability_query)"
   ]
  },
  {
   "cell_type": "code",
   "execution_count": null,
   "id": "24955f09-296b-4453-af26-673491811f57",
   "metadata": {},
   "outputs": [],
   "source": []
  }
 ],
 "metadata": {
  "kernelspec": {
   "display_name": "Python 3 (ipykernel)",
   "language": "python",
   "name": "python3"
  },
  "language_info": {
   "codemirror_mode": {
    "name": "ipython",
    "version": 3
   },
   "file_extension": ".py",
   "mimetype": "text/x-python",
   "name": "python",
   "nbconvert_exporter": "python",
   "pygments_lexer": "ipython3",
   "version": "3.10.14"
  }
 },
 "nbformat": 4,
 "nbformat_minor": 5
}

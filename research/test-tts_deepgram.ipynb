{
 "cells": [
  {
   "cell_type": "code",
   "execution_count": 1,
   "id": "4f3c83bd-e234-48dd-be3c-acde94086307",
   "metadata": {},
   "outputs": [],
   "source": [
    "import os \n",
    "os.chdir(\"..\")"
   ]
  },
  {
   "cell_type": "code",
   "execution_count": 2,
   "id": "cd8da8a6-c437-4ba5-ba1f-8f86a5b6c0f0",
   "metadata": {},
   "outputs": [],
   "source": [
    "!pip install pydub -qU"
   ]
  },
  {
   "cell_type": "code",
   "execution_count": 3,
   "id": "29420c0a-bd85-449a-842b-b594bdb80c49",
   "metadata": {},
   "outputs": [
    {
     "data": {
      "text/plain": [
       "True"
      ]
     },
     "execution_count": 3,
     "metadata": {},
     "output_type": "execute_result"
    }
   ],
   "source": [
    "import requests\n",
    "from dotenv import load_dotenv\n",
    "import requests\n",
    "from pydub import AudioSegment\n",
    "from pydub.playback import play\n",
    "from io import BytesIO\n",
    "\n",
    "load_dotenv()\n"
   ]
  },
  {
   "cell_type": "code",
   "execution_count": 5,
   "id": "048b8fe9-478b-4035-9e10-152e218bad11",
   "metadata": {},
   "outputs": [],
   "source": [
    "import requests\n",
    "\n",
    "\n",
    "def get_audio_response(text:str,\n",
    "                       model_name:str=\"aura-asteria-en\",\n",
    "                      api_key=None,\n",
    "                     ):\n",
    "\n",
    "    if not api_key:\n",
    "        try:\n",
    "            api_key = os.getenv(\"DEEPGRAM_API_KEY\")\n",
    "        except Exception:\n",
    "            raise EnvironmentError(\"DEEPGRAM_API_KEY is not set\")\n",
    "    \n",
    "    # Define the API endpoint\n",
    "    url = f\"https://api.deepgram.com/v1/speak?model={model_name}\"\n",
    "\n",
    "    # Define the headers\n",
    "    headers = {\n",
    "        \"Authorization\": f\"Token {api_key}\",\n",
    "        \"Content-Type\": \"application/json\"\n",
    "    }\n",
    "\n",
    "    # Define the payload\n",
    "    payload = {\n",
    "        \"text\": text\n",
    "    }\n",
    "\n",
    "    # Make the POST request\n",
    "    response = requests.post(url, headers=headers, json=payload)\n",
    "\n",
    "    return response\n",
    "\n",
    "\n",
    "def play_audio_from_bytes(audio_bytes, format=\"mp3\"):\n",
    "    \"\"\"Plays audio from a byte string.\"\"\"\n",
    "\n",
    "    # Convert bytes to AudioSegment (assuming format is known)\n",
    "    audio = AudioSegment.from_file(BytesIO(audio_bytes), format=format)\n",
    "\n",
    "    # Play the audio\n",
    "    print(\"PLAYING THE AUDIO\")\n",
    "    play(audio)\n",
    "\n",
    "# # Get audio data\n",
    "# if response.status_code == 200:\n",
    "#     play_audio_from_bytes(response.content)\n",
    "# else:\n",
    "#     print(\"Error fetching audio.\")\n"
   ]
  },
  {
   "cell_type": "code",
   "execution_count": 6,
   "id": "ad33659d-383f-4384-bfb2-4766cab450fd",
   "metadata": {},
   "outputs": [
    {
     "name": "stdout",
     "output_type": "stream",
     "text": [
      "PLAYING THE AUDIO\n"
     ]
    },
    {
     "name": "stderr",
     "output_type": "stream",
     "text": [
      "ALSA lib pcm.c:2664:(snd_pcm_open_noupdate) Unknown PCM cards.pcm.front\n",
      "ALSA lib pcm.c:2664:(snd_pcm_open_noupdate) Unknown PCM cards.pcm.rear\n",
      "ALSA lib pcm.c:2664:(snd_pcm_open_noupdate) Unknown PCM cards.pcm.center_lfe\n",
      "ALSA lib pcm.c:2664:(snd_pcm_open_noupdate) Unknown PCM cards.pcm.side\n",
      "ALSA lib pcm.c:2664:(snd_pcm_open_noupdate) Unknown PCM cards.pcm.surround21\n",
      "ALSA lib pcm.c:2664:(snd_pcm_open_noupdate) Unknown PCM cards.pcm.surround21\n",
      "ALSA lib pcm.c:2664:(snd_pcm_open_noupdate) Unknown PCM cards.pcm.surround40\n",
      "ALSA lib pcm.c:2664:(snd_pcm_open_noupdate) Unknown PCM cards.pcm.surround41\n",
      "ALSA lib pcm.c:2664:(snd_pcm_open_noupdate) Unknown PCM cards.pcm.surround50\n",
      "ALSA lib pcm.c:2664:(snd_pcm_open_noupdate) Unknown PCM cards.pcm.surround51\n",
      "ALSA lib pcm.c:2664:(snd_pcm_open_noupdate) Unknown PCM cards.pcm.surround71\n",
      "ALSA lib pcm.c:2664:(snd_pcm_open_noupdate) Unknown PCM cards.pcm.iec958\n",
      "ALSA lib pcm.c:2664:(snd_pcm_open_noupdate) Unknown PCM cards.pcm.iec958\n",
      "ALSA lib pcm.c:2664:(snd_pcm_open_noupdate) Unknown PCM cards.pcm.iec958\n",
      "ALSA lib pcm.c:2664:(snd_pcm_open_noupdate) Unknown PCM cards.pcm.hdmi\n",
      "ALSA lib pcm.c:2664:(snd_pcm_open_noupdate) Unknown PCM cards.pcm.hdmi\n",
      "ALSA lib pcm.c:2664:(snd_pcm_open_noupdate) Unknown PCM cards.pcm.modem\n",
      "ALSA lib pcm.c:2664:(snd_pcm_open_noupdate) Unknown PCM cards.pcm.modem\n",
      "ALSA lib pcm.c:2664:(snd_pcm_open_noupdate) Unknown PCM cards.pcm.phoneline\n",
      "ALSA lib pcm.c:2664:(snd_pcm_open_noupdate) Unknown PCM cards.pcm.phoneline\n",
      "ALSA lib pcm_oss.c:397:(_snd_pcm_oss_open) Cannot open device /dev/dsp\n",
      "ALSA lib pcm_oss.c:397:(_snd_pcm_oss_open) Cannot open device /dev/dsp\n",
      "ALSA lib confmisc.c:160:(snd_config_get_card) Invalid field card\n",
      "ALSA lib pcm_usb_stream.c:482:(_snd_pcm_usb_stream_open) Invalid card 'card'\n",
      "ALSA lib confmisc.c:160:(snd_config_get_card) Invalid field card\n",
      "ALSA lib pcm_usb_stream.c:482:(_snd_pcm_usb_stream_open) Invalid card 'card'\n",
      "ALSA lib pcm_dmix.c:1032:(snd_pcm_dmix_open) unable to open slave\n"
     ]
    }
   ],
   "source": [
    "text =\"hey, how are you?\"\n",
    "audio_response = get_audio_response(text)\n",
    "if audio_response.status_code == 200:\n",
    "    play_audio_from_bytes(audio_response.content)\n",
    "else:\n",
    "    print(\"Error fetching audio.\")"
   ]
  },
  {
   "cell_type": "code",
   "execution_count": 7,
   "id": "a05c3b2c-6c9e-4afe-8391-46ec68d1861f",
   "metadata": {},
   "outputs": [],
   "source": []
  },
  {
   "cell_type": "code",
   "execution_count": null,
   "id": "265453b0-aea5-4084-a86f-90f36ec0e18f",
   "metadata": {},
   "outputs": [],
   "source": []
  },
  {
   "cell_type": "code",
   "execution_count": null,
   "id": "8b4f3da4-f07f-43af-b8b7-81bc27d6fb10",
   "metadata": {},
   "outputs": [],
   "source": []
  }
 ],
 "metadata": {
  "kernelspec": {
   "display_name": "Python 3 (ipykernel)",
   "language": "python",
   "name": "python3"
  },
  "language_info": {
   "codemirror_mode": {
    "name": "ipython",
    "version": 3
   },
   "file_extension": ".py",
   "mimetype": "text/x-python",
   "name": "python",
   "nbconvert_exporter": "python",
   "pygments_lexer": "ipython3",
   "version": "3.10.14"
  }
 },
 "nbformat": 4,
 "nbformat_minor": 5
}
